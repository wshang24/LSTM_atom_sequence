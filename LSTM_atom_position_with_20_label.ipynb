{
 "cells": [
  {
   "cell_type": "code",
   "execution_count": 1,
   "id": "secure-rouge",
   "metadata": {},
   "outputs": [],
   "source": [
    "import torch"
   ]
  },
  {
   "cell_type": "code",
   "execution_count": 2,
   "id": "lyric-ensemble",
   "metadata": {},
   "outputs": [],
   "source": [
    "import os\n",
    "os.chdir('../Downloads/')\n",
    "import numpy as np\n",
    "import matplotlib.pyplot as plt\n",
    "import torch\n",
    "import sys\n",
    "sys.path.append('./lstm/')\n",
    "from torch.utils.data import TensorDataset, DataLoader\n",
    "from sklearn.preprocessing import MinMaxScaler\n",
    "data = np.load('npt_trajectory_sorted.npz')\n",
    "import matplotlib.pyplot as plt\n",
    "import pandas as pd\n",
    "from sklearn import preprocessing"
   ]
  },
  {
   "cell_type": "code",
   "execution_count": 3,
   "id": "yellow-suggestion",
   "metadata": {},
   "outputs": [
    {
     "data": {
      "text/plain": [
       "'/home/wenjie/Downloads'"
      ]
     },
     "execution_count": 3,
     "metadata": {},
     "output_type": "execute_result"
    }
   ],
   "source": [
    "os.getcwd()"
   ]
  },
  {
   "cell_type": "code",
   "execution_count": 4,
   "id": "rental-defensive",
   "metadata": {},
   "outputs": [],
   "source": [
    "atom_1_vx=data['arr_0'][1,:,5]"
   ]
  },
  {
   "cell_type": "code",
   "execution_count": 5,
   "id": "filled-inquiry",
   "metadata": {},
   "outputs": [
    {
     "data": {
      "text/plain": [
       "[-3.0,\n",
       " -2.6842105263157894,\n",
       " -2.3684210526315788,\n",
       " -2.0526315789473686,\n",
       " -1.736842105263158,\n",
       " -1.4210526315789473,\n",
       " -1.105263157894737,\n",
       " -0.7894736842105265,\n",
       " -0.47368421052631593,\n",
       " -0.1578947368421053,\n",
       " 0.1578947368421053,\n",
       " 0.4736842105263155,\n",
       " 0.7894736842105261,\n",
       " 1.1052631578947363,\n",
       " 1.421052631578947,\n",
       " 1.7368421052631575,\n",
       " 2.052631578947368,\n",
       " 2.3684210526315788,\n",
       " 2.6842105263157894,\n",
       " 3.0]"
      ]
     },
     "execution_count": 5,
     "metadata": {},
     "output_type": "execute_result"
    }
   ],
   "source": [
    "np.linspace(-3,3, num=20).tolist()"
   ]
  },
  {
   "cell_type": "code",
   "execution_count": 6,
   "id": "descending-information",
   "metadata": {},
   "outputs": [],
   "source": [
    "num_bins=20\n",
    "sm_length=50\n",
    "threshold=100\n",
    "\n",
    "# x-values of the metastable states in the 4-state model potential.\n",
    "X=np.linspace(-3,3,num=num_bins).tolist()\n",
    "\n",
    "# Labels of all possible states in the ranges we considered.\n",
    "# For 2d systems, this is not the same as the number of representative values.\n",
    "all_combs = [i for i in range(num_bins)]\n",
    "vocab=sorted(all_combs)\n",
    "vocab_size = len(vocab)\n",
    "\n",
    "char2idx = {u:i for i, u in enumerate(vocab)} # Mapping from characters to indices\n",
    "idx2char = np.array(vocab)\n",
    "\n",
    "# Sequence length and shift in step between past (input) & future (output)\n",
    "seq_length = 100\n",
    "shift=1\n",
    "\n",
    "# Batch size\n",
    "BATCH_SIZE = 64\n",
    "\n",
    "# Buffer size to shuffle the dataset.\n",
    "BUFFER_SIZE = 50000\n",
    "\n",
    "# Model parameters\n",
    "embedding_dim = 8\n",
    "rnn_units = 64\n",
    "\n",
    "# Training epochs\n",
    "EPOCHS=2"
   ]
  },
  {
   "cell_type": "code",
   "execution_count": 7,
   "id": "pressed-funeral",
   "metadata": {},
   "outputs": [],
   "source": [
    "def running_mean(x, N):\n",
    "    \"\"\"\n",
    "    Convolution as running average. Smoothen data.\n",
    "    \"\"\"\n",
    "    return np.convolve(x, np.ones((N,))/N, mode='valid')\n",
    "\n",
    "def find_nearest(key_arr, target):\n",
    "    \"\"\"\n",
    "    key_arr: array-like, storing keys.\n",
    "    target: the representative value which we want to be closest to.\n",
    "    \"\"\"\n",
    "    idx=np.abs(key_arr-target).argmin()\n",
    "    return idx\n",
    "\n",
    "def Rm_peaks_steps(traj, threshold):\n",
    "    \"\"\"\n",
    "    Remove sudden changes in the trajectory such as peaks and small steps.\n",
    "    Here the gradient is used to identify the changes. If two nonzero\n",
    "    gradients are too close (< threshold), we treat it as noise.\n",
    "    \"\"\"\n",
    "    traj=np.array(traj)\n",
    "    grad_traj=np.gradient(traj) # gradient of trajectory\n",
    "    idx_grad=np.where(grad_traj!=0)[0] # the index of nonzero gradient.\n",
    "    idx0=idx_grad[0]\n",
    "    for idx in idx_grad:\n",
    "        window=idx-idx0\n",
    "        if window <= 1: # neighbor\n",
    "            continue\n",
    "        elif window > 1 and window <= threshold:\n",
    "            traj[idx0:idx0+window//2+1]=traj[idx0]\n",
    "            traj[idx0+window//2+1:idx+1]=traj[idx+1]\n",
    "            idx0=idx\n",
    "        elif window > threshold:\n",
    "            idx0=idx\n",
    "    return traj\n",
    "\n",
    "def split_input_target(chunk):\n",
    "    \"\"\"\n",
    "    split sequences into input and target.\n",
    "    \"\"\"\n",
    "    input_text = chunk[:-shift]\n",
    "    target_text = chunk[shift:]\n",
    "    return input_text, target_text"
   ]
  },
  {
   "cell_type": "code",
   "execution_count": 8,
   "id": "stupid-richards",
   "metadata": {},
   "outputs": [],
   "source": [
    "scaler = preprocessing.StandardScaler()\n",
    "scaler = scaler.fit(atom_1_vx.reshape(-1,1))"
   ]
  },
  {
   "cell_type": "code",
   "execution_count": 9,
   "id": "macro-relative",
   "metadata": {},
   "outputs": [],
   "source": [
    "scaled_data = scaler.transform(atom_1_vx.reshape(-1,1))"
   ]
  },
  {
   "cell_type": "code",
   "execution_count": 10,
   "id": "protected-algeria",
   "metadata": {},
   "outputs": [],
   "source": [
    "input_x = running_mean(scaled_data.reshape(-1), sm_length)"
   ]
  },
  {
   "cell_type": "code",
   "execution_count": 39,
   "id": "engaging-encounter",
   "metadata": {},
   "outputs": [
    {
     "data": {
      "text/plain": [
       "[<matplotlib.lines.Line2D at 0x7f0a3857d6d0>]"
      ]
     },
     "execution_count": 39,
     "metadata": {},
     "output_type": "execute_result"
    },
    {
     "data": {
      "image/png": "[encoded data removed]",
      "text/plain": [
       "<Figure size 432x288 with 1 Axes>"
      ]
     },
     "metadata": {
      "needs_background": "light"
     },
     "output_type": "display_data"
    }
   ],
   "source": [
    "plt.plot(input_x[::10])"
   ]
  },
  {
   "cell_type": "code",
   "execution_count": 40,
   "id": "perceived-oriental",
   "metadata": {},
   "outputs": [],
   "source": [
    "idx_x = map(lambda x : find_nearest(X, x), input_x)"
   ]
  },
  {
   "cell_type": "code",
   "execution_count": 41,
   "id": "natural-efficiency",
   "metadata": {},
   "outputs": [],
   "source": [
    "idx_2d = list(idx_x)"
   ]
  },
  {
   "cell_type": "code",
   "execution_count": 42,
   "id": "clean-protest",
   "metadata": {},
   "outputs": [],
   "source": [
    "text = idx_2d"
   ]
  },
  {
   "cell_type": "code",
   "execution_count": 43,
   "id": "secure-texture",
   "metadata": {},
   "outputs": [],
   "source": [
    "idx_2d = Rm_peaks_steps(idx_2d, threshold)"
   ]
  },
  {
   "cell_type": "code",
   "execution_count": 44,
   "id": "simplified-drove",
   "metadata": {},
   "outputs": [],
   "source": [
    "text_as_int = np.array([char2idx[c] for c in text])"
   ]
  },
  {
   "cell_type": "code",
   "execution_count": 45,
   "id": "complete-mason",
   "metadata": {},
   "outputs": [],
   "source": [
    "text = idx_2d"
   ]
  },
  {
   "cell_type": "code",
   "execution_count": 46,
   "id": "intended-anthropology",
   "metadata": {},
   "outputs": [],
   "source": [
    "def convert2datalist(arr, seq_len):\n",
    "    x=[]\n",
    "    y=[]\n",
    "    \n",
    "    for i in range(len(arr)-seq_len):\n",
    "        x_i = arr[i:i+seq_len]\n",
    "        y_i = arr[i+1:i+seq_len+1]\n",
    "        x.append(x_i)\n",
    "        y.append(y_i)\n",
    "    x_arr = np.array(x).reshape(-1, seq_len)\n",
    "    y_arr = np.array(y).reshape(-1, seq_len)\n",
    "    x_var = torch.autograd.Variable(torch.from_numpy(x_arr).float())\n",
    "    y_var = torch.autograd.Variable(torch.from_numpy(y_arr).float())\n",
    "    return x_var, y_var\n",
    "        \n",
    "    "
   ]
  },
  {
   "cell_type": "code",
   "execution_count": 47,
   "id": "rural-microphone",
   "metadata": {},
   "outputs": [],
   "source": [
    "x, y = convert2datalist(text, 1000)"
   ]
  },
  {
   "cell_type": "code",
   "execution_count": 48,
   "id": "statistical-merit",
   "metadata": {},
   "outputs": [
    {
     "data": {
      "text/plain": [
       "'x_onehot = torch.nn.functional.one_hot(x.to(torch.int64), num_classes=20)\\ny_onehot = torch.nn.functional.one_hot(y.to(torch.int64), num_classes=20)'"
      ]
     },
     "execution_count": 48,
     "metadata": {},
     "output_type": "execute_result"
    }
   ],
   "source": [
    "\"\"\"x_onehot = torch.nn.functional.one_hot(x.to(torch.int64), num_classes=20)\n",
    "y_onehot = torch.nn.functional.one_hot(y.to(torch.int64), num_classes=20)\"\"\""
   ]
  },
  {
   "cell_type": "code",
   "execution_count": 49,
   "id": "accurate-strap",
   "metadata": {},
   "outputs": [],
   "source": [
    "train_dataset = TensorDataset(torch.Tensor(x[::10][:-1000]).to(torch.int64),torch.Tensor(y[::10][:-1000]).to(torch.int64))\n",
    "train_dataloader = DataLoader(train_dataset,batch_size = 128, shuffle = True)\n",
    "test_dataset = TensorDataset(torch.Tensor(x[::10][-1000:]).to(torch.int64),torch.Tensor(y[::10][-1000:]).to(torch.int64))\n",
    "test_dataloader = DataLoader(test_dataset,batch_size = 128, shuffle = False)"
   ]
  },
  {
   "cell_type": "code",
   "execution_count": null,
   "id": "permanent-ceiling",
   "metadata": {},
   "outputs": [],
   "source": []
  },
  {
   "cell_type": "code",
   "execution_count": 50,
   "id": "careful-speech",
   "metadata": {
    "scrolled": true
   },
   "outputs": [
    {
     "name": "stdout",
     "output_type": "stream",
     "text": [
      "torch.Size([128, 1000])\n",
      "torch.Size([128, 1000])\n"
     ]
    }
   ],
   "source": [
    "for a,b in train_dataloader:\n",
    "    print(a.shape)\n",
    "    print(b.shape)\n",
    "    break"
   ]
  },
  {
   "cell_type": "code",
   "execution_count": 51,
   "id": "trained-actor",
   "metadata": {},
   "outputs": [],
   "source": [
    "class RNN(torch.nn.Module):\n",
    "    def __init__(self, index_size, hidden_size1, hidden_size2, output_size):\n",
    "        super(RNN, self).__init__()\n",
    "        self.emb = torch.nn.Embedding(index_size, hidden_size1)\n",
    "        self.lstm = torch.nn.LSTM(hidden_size1, hidden_size2, dropout=0.2)\n",
    "        \n",
    "        self.fc = torch.nn.Linear(hidden_size2, output_size)\n",
    "        self.softmax = torch.nn.Softmax(dim=-1)\n",
    "        \n",
    "    def forward(self, input):\n",
    "        embed = self.emb(input)\n",
    "        pred, (h,c) = self.lstm(embed)\n",
    "        \n",
    "        result = self.fc(pred)\n",
    "        #result = self.softmax(result)\n",
    "        return result, (h, c)\n",
    "        \n",
    "        \n",
    "    "
   ]
  },
  {
   "cell_type": "code",
   "execution_count": 52,
   "id": "committed-interference",
   "metadata": {},
   "outputs": [
    {
     "name": "stderr",
     "output_type": "stream",
     "text": [
      "/home/wenjie/anaconda3/envs/newtorch/lib/python3.8/site-packages/torch/nn/modules/rnn.py:60: UserWarning: dropout option adds dropout after all but last recurrent layer, so non-zero dropout expects num_layers greater than 1, but got dropout=0.2 and num_layers=1\n",
      "  warnings.warn(\"dropout option adds dropout after all but last \"\n"
     ]
    },
    {
     "data": {
      "text/plain": [
       "RNN(\n",
       "  (emb): Embedding(20, 32)\n",
       "  (lstm): LSTM(32, 48, dropout=0.2)\n",
       "  (fc): Linear(in_features=48, out_features=20, bias=True)\n",
       "  (softmax): Softmax(dim=-1)\n",
       ")"
      ]
     },
     "execution_count": 52,
     "metadata": {},
     "output_type": "execute_result"
    }
   ],
   "source": [
    "model = RNN(20,32,48,20)\n",
    "device = torch.device(\"cuda\" if torch.cuda.is_available() else \"cpu\")\n",
    "model.to(device)"
   ]
  },
  {
   "cell_type": "code",
   "execution_count": 53,
   "id": "athletic-pledge",
   "metadata": {},
   "outputs": [
    {
     "name": "stdout",
     "output_type": "stream",
     "text": [
      "torch.Size([128, 1000])\n",
      "torch.Size([128, 1000])\n",
      "torch.Size([1000, 128, 20])\n"
     ]
    }
   ],
   "source": [
    "\n",
    "for a, b in train_dataloader:\n",
    "    print(a.shape)\n",
    "    print(b.shape)\n",
    "    pred, _ = model(a.transpose(0,1).to(device))\n",
    "    print(pred.shape)\n",
    "    break\n",
    "    "
   ]
  },
  {
   "cell_type": "code",
   "execution_count": 54,
   "id": "demanding-tomorrow",
   "metadata": {},
   "outputs": [],
   "source": [
    "criterion = torch.nn.CrossEntropyLoss()\n",
    "optimizer = torch.optim.Adam(model.parameters(), lr = 1e-4)\n"
   ]
  },
  {
   "cell_type": "code",
   "execution_count": 55,
   "id": "musical-response",
   "metadata": {},
   "outputs": [
    {
     "name": "stdout",
     "output_type": "stream",
     "text": [
      "current epoch is   0, erros is 203.750198\n",
      "current epoch is   0, test erros is 22.009983\n",
      "current epoch is   1, erros is 184.562119\n",
      "current epoch is   2, erros is 160.839966\n",
      "current epoch is   3, erros is 132.746735\n",
      "current epoch is   4, erros is 105.633018\n",
      "current epoch is   5, erros is 82.957603\n",
      "current epoch is   6, erros is 65.112999\n",
      "current epoch is   7, erros is 51.025757\n",
      "current epoch is   8, erros is 40.564613\n",
      "current epoch is   9, erros is 33.256020\n",
      "current epoch is  10, erros is 28.061754\n",
      "current epoch is  10, test erros is 2.852237\n",
      "current epoch is  11, erros is 24.279015\n",
      "current epoch is  12, erros is 21.298288\n",
      "current epoch is  13, erros is 18.973240\n",
      "current epoch is  14, erros is 17.028122\n",
      "current epoch is  15, erros is 15.426154\n",
      "current epoch is  16, erros is 14.080788\n",
      "current epoch is  17, erros is 12.955556\n",
      "current epoch is  18, erros is 11.981390\n",
      "current epoch is  19, erros is 11.127217\n",
      "current epoch is  20, erros is 10.391184\n",
      "current epoch is  20, test erros is 1.346836\n",
      "current epoch is  21, erros is 9.710811\n",
      "current epoch is  22, erros is 9.162065\n",
      "current epoch is  23, erros is 8.619059\n",
      "current epoch is  24, erros is 8.116934\n",
      "current epoch is  25, erros is 7.678132\n",
      "current epoch is  26, erros is 7.302377\n",
      "current epoch is  27, erros is 6.937440\n",
      "current epoch is  28, erros is 6.611478\n",
      "current epoch is  29, erros is 6.324205\n",
      "current epoch is  30, erros is 6.054746\n",
      "current epoch is  30, test erros is 0.810719\n",
      "current epoch is  31, erros is 5.799442\n",
      "current epoch is  32, erros is 5.587477\n",
      "current epoch is  33, erros is 5.385832\n",
      "current epoch is  34, erros is 5.184799\n",
      "current epoch is  35, erros is 5.016078\n",
      "current epoch is  36, erros is 4.861685\n",
      "current epoch is  37, erros is 4.699558\n",
      "current epoch is  38, erros is 4.571481\n",
      "current epoch is  39, erros is 4.435712\n",
      "current epoch is  40, erros is 4.319265\n",
      "current epoch is  40, test erros is 0.582509\n"
     ]
    }
   ],
   "source": [
    "#trian the model\n",
    "epoches = 41\n",
    "\n",
    "for epoch in range(epoches):\n",
    "    model.train()\n",
    "    LOSS = 0\n",
    "    for x, y in train_dataloader:\n",
    "        optimizer.zero_grad()\n",
    "        x = x.to(torch.int64).transpose(0,1)\n",
    "        x=x.to(device)\n",
    "        y=y.to(torch.int64).transpose(0,1).to(device)\n",
    "        \n",
    "        pred, _ = model(x)\n",
    "        \n",
    "        loss = criterion(pred.reshape(-1,20), y.reshape(-1))\n",
    "        loss.backward()\n",
    "        torch.nn.utils.clip_grad_norm_(model.parameters(),0.5)\n",
    "        optimizer.step()\n",
    "        LOSS = LOSS+loss\n",
    "        \n",
    "    print('current epoch is {:3d}, erros is {:5f}'.format(epoch, LOSS))\n",
    "    \n",
    "    if epoch%10 == 0:\n",
    "        model.eval()\n",
    "        with torch.no_grad():\n",
    "            test_loss = 0\n",
    "            for x, y in test_dataloader:\n",
    "                x = x.to(torch.int64).transpose(0,1)\n",
    "                x=x.to(device)\n",
    "                y=y.to(torch.int64).transpose(0,1).to(device)\n",
    "\n",
    "                pred, _ = model(x)\n",
    "\n",
    "                loss = criterion(pred.reshape(-1,20), y.reshape(-1))\n",
    "\n",
    "                test_loss +=loss\n",
    "        \n",
    "        print('current epoch is {:3d}, test erros is {:5f}'.format(epoch, test_loss))\n",
    "    \n",
    "        \n",
    "        \n",
    "        \n",
    "        \n",
    "        \n"
   ]
  },
  {
   "cell_type": "code",
   "execution_count": 56,
   "id": "voluntary-female",
   "metadata": {},
   "outputs": [],
   "source": [
    "model.eval()\n",
    "prediction = []\n",
    "i, j = test_dataset[1]\n",
    "i = i.unsqueeze(1).to(torch.int64).to(device)\n",
    "with torch.no_grad():\n",
    "    for m in range(10000):\n",
    "        pred, _ = model(i)\n",
    "        pred = model.softmax(pred)\n",
    "        pred_id = torch.multinomial(pred[-1,0],1)\n",
    "        \n",
    "        \n",
    "        prediction.append(pred_id)\n",
    "        \n",
    "        pred_id = pred_id.unsqueeze(1)\n",
    "        \n",
    "        i = torch.cat((i, pred_id), 0)[1:]\n",
    "        \n",
    "    \n",
    "\n",
    "        \n",
    "\n"
   ]
  },
  {
   "cell_type": "code",
   "execution_count": 57,
   "id": "great-yeast",
   "metadata": {},
   "outputs": [
    {
     "data": {
      "text/plain": [
       "(array([  12.,    5.,   20., 1588., 2767., 4251., 1331.,   12.,    7.,\n",
       "           7.]),\n",
       " array([ 0. ,  1.9,  3.8,  5.7,  7.6,  9.5, 11.4, 13.3, 15.2, 17.1, 19. ]),\n",
       " <BarContainer object of 10 artists>)"
      ]
     },
     "execution_count": 57,
     "metadata": {},
     "output_type": "execute_result"
    },
    {
     "data": {
      "image/png": "[encoded data removed]",
      "text/plain": [
       "<Figure size 432x288 with 1 Axes>"
      ]
     },
     "metadata": {
      "needs_background": "light"
     },
     "output_type": "display_data"
    }
   ],
   "source": [
    "prediction = [i.cpu().numpy() for i in prediction]\n",
    "prediction = np.array(prediction)\n",
    "plt.hist(prediction)"
   ]
  },
  {
   "cell_type": "code",
   "execution_count": 58,
   "id": "communist-planet",
   "metadata": {},
   "outputs": [
    {
     "data": {
      "text/plain": [
       "(array([[173.,   0.,   0.,   0.,   0., 226.,   0.,   0.,   0., 601.],\n",
       "        [174.,   0.,   0.,   0.,   0., 225.,   0.,   0.,   0., 601.]]),\n",
       " array([ 9. ,  9.2,  9.4,  9.6,  9.8, 10. , 10.2, 10.4, 10.6, 10.8, 11. ]),\n",
       " <a list of 2 BarContainer objects>)"
      ]
     },
     "execution_count": 58,
     "metadata": {},
     "output_type": "execute_result"
    },
    {
     "data": {
      "image/png": "[encoded data removed]",
      "text/plain": [
       "<Figure size 432x288 with 1 Axes>"
      ]
     },
     "metadata": {
      "needs_background": "light"
     },
     "output_type": "display_data"
    }
   ],
   "source": [
    "plt.hist(test_dataset[100])"
   ]
  },
  {
   "cell_type": "code",
   "execution_count": null,
   "id": "actual-monday",
   "metadata": {},
   "outputs": [],
   "source": []
  }
 ],
 "metadata": {
  "kernelspec": {
   "display_name": "Python 3",
   "language": "python",
   "name": "python3"
  },
  "language_info": {
   "codemirror_mode": {
    "name": "ipython",
    "version": 3
   },
   "file_extension": ".py",
   "mimetype": "text/x-python",
   "name": "python",
   "nbconvert_exporter": "python",
   "pygments_lexer": "ipython3",
   "version": "3.8.8"
  }
 },
 "nbformat": 4,
 "nbformat_minor": 5
}
