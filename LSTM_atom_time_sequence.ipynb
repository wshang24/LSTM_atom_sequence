{
 "cells": [
  {
   "cell_type": "code",
   "execution_count": 288,
   "id": "appreciated-natural",
   "metadata": {},
   "outputs": [],
   "source": [
    "import os"
   ]
  },
  {
   "cell_type": "code",
   "execution_count": 289,
   "id": "laughing-exclusive",
   "metadata": {},
   "outputs": [
    {
     "data": {
      "text/plain": [
       "'/home/wenjie/Downloads'"
      ]
     },
     "execution_count": 289,
     "metadata": {},
     "output_type": "execute_result"
    }
   ],
   "source": [
    "os.getcwd()"
   ]
  },
  {
   "cell_type": "code",
   "execution_count": 290,
   "id": "affecting-spank",
   "metadata": {},
   "outputs": [],
   "source": [
    "import numpy as np\n",
    "import matplotlib.pyplot as plt\n",
    "import torch\n",
    "import sys\n",
    "sys.path.append('./lstm/')\n",
    "from torch.utils.data import TensorDataset, DataLoader\n",
    "from sklearn.preprocessing import MinMaxScaler\n"
   ]
  },
  {
   "cell_type": "code",
   "execution_count": 291,
   "id": "speaking-swedish",
   "metadata": {},
   "outputs": [],
   "source": [
    "#read data\n",
    "data = np.load('npt_trajectory_sorted.npz')"
   ]
  },
  {
   "cell_type": "code",
   "execution_count": 292,
   "id": "behind-black",
   "metadata": {},
   "outputs": [
    {
     "data": {
      "text/plain": [
       "(171, 100000, 11)"
      ]
     },
     "execution_count": 292,
     "metadata": {},
     "output_type": "execute_result"
    }
   ],
   "source": [
    "data['arr_0'].shape"
   ]
  },
  {
   "cell_type": "code",
   "execution_count": 293,
   "id": "unnecessary-switch",
   "metadata": {},
   "outputs": [],
   "source": [
    "# extract one time serie sequence\n",
    "atom_1_vx=data['arr_0'][1,:,5]\n"
   ]
  },
  {
   "cell_type": "code",
   "execution_count": 295,
   "id": "manufactured-payday",
   "metadata": {},
   "outputs": [
    {
     "data": {
      "text/plain": [
       "[<matplotlib.lines.Line2D at 0x7f2d97dd47f0>]"
      ]
     },
     "execution_count": 295,
     "metadata": {},
     "output_type": "execute_result"
    },
    {
     "data": {
      "image/png": "[encoded data removed]",
      "text/plain": [
       "<Figure size 432x288 with 1 Axes>"
      ]
     },
     "metadata": {
      "needs_background": "light"
     },
     "output_type": "display_data"
    }
   ],
   "source": [
    "plt.plot(np.arange(0, len(atom_1_vx)),atom_1_pos_vx)"
   ]
  },
  {
   "cell_type": "code",
   "execution_count": 296,
   "id": "prescribed-buying",
   "metadata": {},
   "outputs": [],
   "source": [
    "#generate training tuples\n",
    "def sequence2dataset(seq, window):\n",
    "    data_seq=[]\n",
    "    label_seq = []\n",
    "    for i in range(0,len(seq)-window):\n",
    "        data = seq[i:i+window]\n",
    "        label = seq[i+window]\n",
    "        data_seq.append(data)\n",
    "        label_seq.append(label)\n",
    "        \n",
    "    return data_seq, label_seq\n",
    "        "
   ]
  },
  {
   "cell_type": "code",
   "execution_count": 297,
   "id": "nervous-buffalo",
   "metadata": {},
   "outputs": [],
   "source": [
    "train_size = int(len(atom_1_pos_vx)*0.8)\n",
    "window = 100"
   ]
  },
  {
   "cell_type": "code",
   "execution_count": 299,
   "id": "saving-might",
   "metadata": {},
   "outputs": [],
   "source": [
    "#rescale data and generate data list from tuples\n",
    "\n",
    "scaler = MinMaxScaler(feature_range=(-1, 1))\n",
    "transformed_atom_1_vx = scaler.fit_transform(atom_1_vx.reshape(-1,1))\n",
    "\n",
    "train_data_list, train_label_list= sequence2dataset(transformed_atom_1_vx[0:train_size],100)\n",
    "test_data_list, test_label_list= sequence2dataset(transformed_atom_1_vx[train_size:],100)"
   ]
  },
  {
   "cell_type": "code",
   "execution_count": 303,
   "id": "opposite-shareware",
   "metadata": {},
   "outputs": [
    {
     "name": "stdout",
     "output_type": "stream",
     "text": [
      "79900\n",
      "19900\n"
     ]
    }
   ],
   "source": [
    "print(len(train_data_list))\n",
    "print(len(test_data_list))"
   ]
  },
  {
   "cell_type": "code",
   "execution_count": 304,
   "id": "assumed-crowd",
   "metadata": {},
   "outputs": [],
   "source": [
    "#generate dataset and dataloader from data list\n",
    "\n",
    "train_dataset = TensorDataset(torch.Tensor(train_data_list),torch.Tensor(train_label_list))\n",
    "train_dataloader = DataLoader(train_dataset,batch_size = 128, shuffle = True)\n",
    "test_dataset = TensorDataset(torch.Tensor(test_data_list),torch.Tensor(test_label_list))\n",
    "test_dataloader = DataLoader(test_dataset,batch_size = 128, shuffle = False)"
   ]
  },
  {
   "cell_type": "code",
   "execution_count": 306,
   "id": "advance-philippines",
   "metadata": {},
   "outputs": [],
   "source": [
    "# my model, a single LSTM unit\n",
    "\n",
    "class RNN(torch.nn.Module):\n",
    "    def __init__(self, input_size, hidden_size1, hidden_size2, output_size):\n",
    "        super(RNN, self).__init__()\n",
    "        self.fc1 = torch.nn.Linear(input_size, hidden_size1)\n",
    "        self.lstm = torch.nn.LSTM(hidden_size1, hidden_size2, dropout=0.2)\n",
    "        \n",
    "        self.fc2 = torch.nn.Linear(hidden_size2, output_size)\n",
    "        \n",
    "    def forward(self, input):\n",
    "        x = self.fc1(input)\n",
    "        _, (h, _) = self.lstm(x)\n",
    "        \n",
    "        return self.fc2(h)\n",
    "    \n",
    "        \n",
    "        \n",
    "        \n",
    "        "
   ]
  },
  {
   "cell_type": "code",
   "execution_count": 307,
   "id": "considerable-terrain",
   "metadata": {},
   "outputs": [
    {
     "name": "stderr",
     "output_type": "stream",
     "text": [
      "/home/wenjie/anaconda3/lib/python3.8/site-packages/torch/nn/modules/rnn.py:58: UserWarning: dropout option adds dropout after all but last recurrent layer, so non-zero dropout expects num_layers greater than 1, but got dropout=0.2 and num_layers=1\n",
      "  warnings.warn(\"dropout option adds dropout after all but last \"\n"
     ]
    }
   ],
   "source": [
    "device = torch.device(\"cuda\" if torch.cuda.is_available() else \"cpu\")\n",
    "model = RNN(1,8,16,1)\n",
    "model.to(device)\n",
    "optimizer = torch.optim.Adam(model.parameters(),lr=1e-3)\n",
    "criterion = torch.nn.MSELoss()"
   ]
  },
  {
   "cell_type": "code",
   "execution_count": 308,
   "id": "compatible-pillow",
   "metadata": {},
   "outputs": [
    {
     "data": {
      "text/plain": [
       "RNN(\n",
       "  (fc1): Linear(in_features=1, out_features=8, bias=True)\n",
       "  (lstm): LSTM(8, 16, dropout=0.2)\n",
       "  (fc2): Linear(in_features=16, out_features=1, bias=True)\n",
       ")"
      ]
     },
     "execution_count": 308,
     "metadata": {},
     "output_type": "execute_result"
    }
   ],
   "source": [
    "model"
   ]
  },
  {
   "cell_type": "code",
   "execution_count": 310,
   "id": "precise-norfolk",
   "metadata": {
    "collapsed": true,
    "jupyter": {
     "outputs_hidden": true
    },
    "tags": []
   },
   "outputs": [
    {
     "name": "stdout",
     "output_type": "stream",
     "text": [
      "current epoch is   0, erros is 0.008293\n",
      "current epoch is   0, test erros is 0.001607\n",
      "current epoch is   1, erros is 0.007181\n",
      "current epoch is   2, erros is 0.006201\n",
      "current epoch is   3, erros is 0.005343\n",
      "current epoch is   4, erros is 0.005121\n",
      "current epoch is   5, erros is 0.004240\n",
      "current epoch is   6, erros is 0.003778\n",
      "current epoch is   7, erros is 0.003579\n",
      "current epoch is   8, erros is 0.003470\n",
      "current epoch is   9, erros is 0.003218\n",
      "current epoch is  10, erros is 0.003225\n",
      "current epoch is  10, test erros is 0.002114\n",
      "current epoch is  11, erros is 0.003082\n",
      "current epoch is  12, erros is 0.002831\n",
      "current epoch is  13, erros is 0.002676\n",
      "current epoch is  14, erros is 0.002616\n",
      "current epoch is  15, erros is 0.002338\n",
      "current epoch is  16, erros is 0.002174\n",
      "current epoch is  17, erros is 0.002215\n",
      "current epoch is  18, erros is 0.002097\n",
      "current epoch is  19, erros is 0.002027\n",
      "current epoch is  20, erros is 0.001844\n",
      "current epoch is  20, test erros is 0.000819\n",
      "current epoch is  21, erros is 0.001923\n",
      "current epoch is  22, erros is 0.001903\n",
      "current epoch is  23, erros is 0.001785\n",
      "current epoch is  24, erros is 0.001759\n",
      "current epoch is  25, erros is 0.001744\n",
      "current epoch is  26, erros is 0.001700\n",
      "current epoch is  27, erros is 0.001675\n",
      "current epoch is  28, erros is 0.001653\n",
      "current epoch is  29, erros is 0.001594\n",
      "current epoch is  30, erros is 0.001623\n",
      "current epoch is  30, test erros is 0.001498\n",
      "current epoch is  31, erros is 0.001542\n",
      "current epoch is  32, erros is 0.001672\n",
      "current epoch is  33, erros is 0.001581\n",
      "current epoch is  34, erros is 0.001573\n",
      "current epoch is  35, erros is 0.001613\n",
      "current epoch is  36, erros is 0.001578\n",
      "current epoch is  37, erros is 0.001476\n",
      "current epoch is  38, erros is 0.001556\n",
      "current epoch is  39, erros is 0.001536\n",
      "current epoch is  40, erros is 0.001536\n",
      "current epoch is  40, test erros is 0.001062\n",
      "current epoch is  41, erros is 0.001505\n",
      "current epoch is  42, erros is 0.001464\n",
      "current epoch is  43, erros is 0.001595\n",
      "current epoch is  44, erros is 0.001555\n",
      "current epoch is  45, erros is 0.001535\n",
      "current epoch is  46, erros is 0.001521\n",
      "current epoch is  47, erros is 0.001429\n",
      "current epoch is  48, erros is 0.001657\n",
      "current epoch is  49, erros is 0.001772\n",
      "current epoch is  50, erros is 0.001429\n",
      "current epoch is  50, test erros is 0.001036\n",
      "current epoch is  51, erros is 0.001487\n",
      "current epoch is  52, erros is 0.001455\n",
      "current epoch is  53, erros is 0.001336\n",
      "current epoch is  54, erros is 0.001511\n",
      "current epoch is  55, erros is 0.001390\n",
      "current epoch is  56, erros is 0.001456\n",
      "current epoch is  57, erros is 0.001387\n",
      "current epoch is  58, erros is 0.001487\n",
      "current epoch is  59, erros is 0.001424\n",
      "current epoch is  60, erros is 0.001417\n",
      "current epoch is  60, test erros is 0.001834\n",
      "current epoch is  61, erros is 0.001384\n",
      "current epoch is  62, erros is 0.001370\n",
      "current epoch is  63, erros is 0.001342\n",
      "current epoch is  64, erros is 0.001413\n",
      "current epoch is  65, erros is 0.001654\n",
      "current epoch is  66, erros is 0.001468\n",
      "current epoch is  67, erros is 0.001330\n",
      "current epoch is  68, erros is 0.001317\n",
      "current epoch is  69, erros is 0.001404\n",
      "current epoch is  70, erros is 0.001313\n",
      "current epoch is  70, test erros is 0.000654\n",
      "current epoch is  71, erros is 0.001356\n",
      "current epoch is  72, erros is 0.001343\n",
      "current epoch is  73, erros is 0.001475\n",
      "current epoch is  74, erros is 0.001302\n",
      "current epoch is  75, erros is 0.001311\n",
      "current epoch is  76, erros is 0.001357\n",
      "current epoch is  77, erros is 0.001334\n",
      "current epoch is  78, erros is 0.001323\n",
      "current epoch is  79, erros is 0.001316\n",
      "current epoch is  80, erros is 0.001301\n",
      "current epoch is  80, test erros is 0.000714\n",
      "current epoch is  81, erros is 0.001358\n",
      "current epoch is  82, erros is 0.001298\n",
      "current epoch is  83, erros is 0.001293\n",
      "current epoch is  84, erros is 0.001303\n",
      "current epoch is  85, erros is 0.001361\n",
      "current epoch is  86, erros is 0.001281\n",
      "current epoch is  87, erros is 0.001321\n",
      "current epoch is  88, erros is 0.001323\n",
      "current epoch is  89, erros is 0.001300\n",
      "current epoch is  90, erros is 0.001276\n",
      "current epoch is  90, test erros is 0.000852\n",
      "current epoch is  91, erros is 0.001321\n",
      "current epoch is  92, erros is 0.001284\n",
      "current epoch is  93, erros is 0.001265\n",
      "current epoch is  94, erros is 0.001273\n",
      "current epoch is  95, erros is 0.001264\n",
      "current epoch is  96, erros is 0.001286\n",
      "current epoch is  97, erros is 0.001232\n",
      "current epoch is  98, erros is 0.001266\n",
      "current epoch is  99, erros is 0.001285\n",
      "current epoch is 100, erros is 0.001233\n",
      "current epoch is 100, test erros is 0.000649\n",
      "current epoch is 101, erros is 0.001251\n",
      "current epoch is 102, erros is 0.001244\n",
      "current epoch is 103, erros is 0.001237\n",
      "current epoch is 104, erros is 0.001205\n",
      "current epoch is 105, erros is 0.001242\n",
      "current epoch is 106, erros is 0.001322\n",
      "current epoch is 107, erros is 0.001211\n",
      "current epoch is 108, erros is 0.001236\n",
      "current epoch is 109, erros is 0.001241\n",
      "current epoch is 110, erros is 0.001241\n",
      "current epoch is 110, test erros is 0.000812\n",
      "current epoch is 111, erros is 0.001226\n",
      "current epoch is 112, erros is 0.001177\n",
      "current epoch is 113, erros is 0.001302\n",
      "current epoch is 114, erros is 0.001179\n",
      "current epoch is 115, erros is 0.001128\n",
      "current epoch is 116, erros is 0.001127\n",
      "current epoch is 117, erros is 0.001166\n",
      "current epoch is 118, erros is 0.001192\n",
      "current epoch is 119, erros is 0.001133\n",
      "current epoch is 120, erros is 0.001227\n",
      "current epoch is 120, test erros is 0.000760\n",
      "current epoch is 121, erros is 0.001166\n",
      "current epoch is 122, erros is 0.001134\n",
      "current epoch is 123, erros is 0.001173\n",
      "current epoch is 124, erros is 0.001120\n",
      "current epoch is 125, erros is 0.001054\n",
      "current epoch is 126, erros is 0.001129\n",
      "current epoch is 127, erros is 0.001214\n",
      "current epoch is 128, erros is 0.001124\n",
      "current epoch is 129, erros is 0.001170\n",
      "current epoch is 130, erros is 0.001140\n",
      "current epoch is 130, test erros is 0.000931\n",
      "current epoch is 131, erros is 0.001097\n",
      "current epoch is 132, erros is 0.001211\n",
      "current epoch is 133, erros is 0.001139\n",
      "current epoch is 134, erros is 0.001131\n",
      "current epoch is 135, erros is 0.001124\n",
      "current epoch is 136, erros is 0.001060\n",
      "current epoch is 137, erros is 0.001110\n",
      "current epoch is 138, erros is 0.001136\n",
      "current epoch is 139, erros is 0.001124\n",
      "current epoch is 140, erros is 0.001121\n",
      "current epoch is 140, test erros is 0.000757\n",
      "current epoch is 141, erros is 0.001096\n",
      "current epoch is 142, erros is 0.001173\n",
      "current epoch is 143, erros is 0.001085\n",
      "current epoch is 144, erros is 0.001038\n",
      "current epoch is 145, erros is 0.001105\n",
      "current epoch is 146, erros is 0.001106\n",
      "current epoch is 147, erros is 0.001207\n",
      "current epoch is 148, erros is 0.001037\n",
      "current epoch is 149, erros is 0.001124\n",
      "current epoch is 150, erros is 0.001084\n",
      "current epoch is 150, test erros is 0.000810\n",
      "current epoch is 151, erros is 0.001021\n",
      "current epoch is 152, erros is 0.001076\n",
      "current epoch is 153, erros is 0.001060\n",
      "current epoch is 154, erros is 0.001142\n",
      "current epoch is 155, erros is 0.001122\n",
      "current epoch is 156, erros is 0.001012\n",
      "current epoch is 157, erros is 0.001003\n",
      "current epoch is 158, erros is 0.001014\n",
      "current epoch is 159, erros is 0.001123\n",
      "current epoch is 160, erros is 0.001017\n",
      "current epoch is 160, test erros is 0.000589\n",
      "current epoch is 161, erros is 0.001160\n",
      "current epoch is 162, erros is 0.000994\n",
      "current epoch is 163, erros is 0.001028\n",
      "current epoch is 164, erros is 0.001023\n",
      "current epoch is 165, erros is 0.001020\n",
      "current epoch is 166, erros is 0.000988\n",
      "current epoch is 167, erros is 0.001052\n",
      "current epoch is 168, erros is 0.001080\n",
      "current epoch is 169, erros is 0.000959\n",
      "current epoch is 170, erros is 0.001086\n",
      "current epoch is 170, test erros is 0.000764\n",
      "current epoch is 171, erros is 0.001022\n",
      "current epoch is 172, erros is 0.001006\n",
      "current epoch is 173, erros is 0.001008\n",
      "current epoch is 174, erros is 0.001017\n",
      "current epoch is 175, erros is 0.001057\n",
      "current epoch is 176, erros is 0.000992\n",
      "current epoch is 177, erros is 0.001082\n",
      "current epoch is 178, erros is 0.001045\n",
      "current epoch is 179, erros is 0.000995\n",
      "current epoch is 180, erros is 0.000933\n",
      "current epoch is 180, test erros is 0.001077\n",
      "current epoch is 181, erros is 0.000955\n",
      "current epoch is 182, erros is 0.001012\n",
      "current epoch is 183, erros is 0.001018\n",
      "current epoch is 184, erros is 0.000961\n",
      "current epoch is 185, erros is 0.001015\n",
      "current epoch is 186, erros is 0.001147\n",
      "current epoch is 187, erros is 0.000924\n",
      "current epoch is 188, erros is 0.001007\n",
      "current epoch is 189, erros is 0.000899\n",
      "current epoch is 190, erros is 0.000937\n",
      "current epoch is 190, test erros is 0.000417\n",
      "current epoch is 191, erros is 0.001031\n",
      "current epoch is 192, erros is 0.001174\n",
      "current epoch is 193, erros is 0.000995\n",
      "current epoch is 194, erros is 0.000901\n",
      "current epoch is 195, erros is 0.000999\n",
      "current epoch is 196, erros is 0.000915\n",
      "current epoch is 197, erros is 0.000958\n",
      "current epoch is 198, erros is 0.000943\n",
      "current epoch is 199, erros is 0.000937\n",
      "current epoch is 200, erros is 0.001092\n",
      "current epoch is 200, test erros is 0.000496\n",
      "current epoch is 201, erros is 0.000958\n",
      "current epoch is 202, erros is 0.000946\n",
      "current epoch is 203, erros is 0.000900\n",
      "current epoch is 204, erros is 0.001102\n",
      "current epoch is 205, erros is 0.000902\n",
      "current epoch is 206, erros is 0.000875\n",
      "current epoch is 207, erros is 0.000880\n",
      "current epoch is 208, erros is 0.001076\n",
      "current epoch is 209, erros is 0.000956\n",
      "current epoch is 210, erros is 0.000954\n",
      "current epoch is 210, test erros is 0.000566\n",
      "current epoch is 211, erros is 0.000917\n",
      "current epoch is 212, erros is 0.000921\n",
      "current epoch is 213, erros is 0.000938\n",
      "current epoch is 214, erros is 0.000859\n",
      "current epoch is 215, erros is 0.000952\n",
      "current epoch is 216, erros is 0.000909\n",
      "current epoch is 217, erros is 0.000979\n",
      "current epoch is 218, erros is 0.000862\n",
      "current epoch is 219, erros is 0.000899\n",
      "current epoch is 220, erros is 0.000918\n",
      "current epoch is 220, test erros is 0.000647\n",
      "current epoch is 221, erros is 0.000898\n",
      "current epoch is 222, erros is 0.000835\n",
      "current epoch is 223, erros is 0.000869\n",
      "current epoch is 224, erros is 0.000867\n",
      "current epoch is 225, erros is 0.001012\n",
      "current epoch is 226, erros is 0.000835\n",
      "current epoch is 227, erros is 0.000829\n",
      "current epoch is 228, erros is 0.001011\n",
      "current epoch is 229, erros is 0.000875\n",
      "current epoch is 230, erros is 0.000855\n",
      "current epoch is 230, test erros is 0.000485\n",
      "current epoch is 231, erros is 0.000878\n",
      "current epoch is 232, erros is 0.000849\n",
      "current epoch is 233, erros is 0.000906\n",
      "current epoch is 234, erros is 0.001018\n",
      "current epoch is 235, erros is 0.000950\n",
      "current epoch is 236, erros is 0.000863\n",
      "current epoch is 237, erros is 0.000838\n",
      "current epoch is 238, erros is 0.000929\n",
      "current epoch is 239, erros is 0.000882\n",
      "current epoch is 240, erros is 0.000854\n",
      "current epoch is 240, test erros is 0.057393\n",
      "current epoch is 241, erros is 0.001042\n",
      "current epoch is 242, erros is 0.000823\n",
      "current epoch is 243, erros is 0.000779\n",
      "current epoch is 244, erros is 0.000828\n",
      "current epoch is 245, erros is 0.000895\n",
      "current epoch is 246, erros is 0.000807\n",
      "current epoch is 247, erros is 0.000836\n",
      "current epoch is 248, erros is 0.001214\n",
      "current epoch is 249, erros is 0.000966\n",
      "current epoch is 250, erros is 0.000827\n",
      "current epoch is 250, test erros is 0.003097\n",
      "current epoch is 251, erros is 0.000803\n",
      "current epoch is 252, erros is 0.000799\n",
      "current epoch is 253, erros is 0.000833\n",
      "current epoch is 254, erros is 0.000818\n",
      "current epoch is 255, erros is 0.000855\n",
      "current epoch is 256, erros is 0.000879\n",
      "current epoch is 257, erros is 0.000817\n",
      "current epoch is 258, erros is 0.000808\n",
      "current epoch is 259, erros is 0.000816\n",
      "current epoch is 260, erros is 0.000851\n",
      "current epoch is 260, test erros is 0.000733\n",
      "current epoch is 261, erros is 0.000856\n",
      "current epoch is 262, erros is 0.000795\n",
      "current epoch is 263, erros is 0.000999\n",
      "current epoch is 264, erros is 0.000834\n",
      "current epoch is 265, erros is 0.000803\n",
      "current epoch is 266, erros is 0.000804\n",
      "current epoch is 267, erros is 0.000848\n",
      "current epoch is 268, erros is 0.000812\n",
      "current epoch is 269, erros is 0.000799\n",
      "current epoch is 270, erros is 0.000813\n",
      "current epoch is 270, test erros is 0.011647\n",
      "current epoch is 271, erros is 0.000772\n",
      "current epoch is 272, erros is 0.000784\n",
      "current epoch is 273, erros is 0.000861\n",
      "current epoch is 274, erros is 0.000793\n",
      "current epoch is 275, erros is 0.000778\n",
      "current epoch is 276, erros is 0.000942\n",
      "current epoch is 277, erros is 0.000783\n",
      "current epoch is 278, erros is 0.000796\n",
      "current epoch is 279, erros is 0.000742\n",
      "current epoch is 280, erros is 0.000791\n",
      "current epoch is 280, test erros is 0.088895\n",
      "current epoch is 281, erros is 0.000805\n",
      "current epoch is 282, erros is 0.000820\n",
      "current epoch is 283, erros is 0.000723\n",
      "current epoch is 284, erros is 0.000889\n",
      "current epoch is 285, erros is 0.000831\n",
      "current epoch is 286, erros is 0.000743\n",
      "current epoch is 287, erros is 0.000780\n",
      "current epoch is 288, erros is 0.000802\n",
      "current epoch is 289, erros is 0.000918\n",
      "current epoch is 290, erros is 0.000743\n",
      "current epoch is 290, test erros is 0.061776\n",
      "current epoch is 291, erros is 0.000794\n",
      "current epoch is 292, erros is 0.000824\n",
      "current epoch is 293, erros is 0.000786\n",
      "current epoch is 294, erros is 0.000765\n",
      "current epoch is 295, erros is 0.000746\n",
      "current epoch is 296, erros is 0.000752\n",
      "current epoch is 297, erros is 0.000763\n",
      "current epoch is 298, erros is 0.000745\n",
      "current epoch is 299, erros is 0.000839\n",
      "current epoch is 300, erros is 0.000795\n",
      "current epoch is 300, test erros is 0.052520\n",
      "current epoch is 301, erros is 0.000731\n",
      "current epoch is 302, erros is 0.000716\n",
      "current epoch is 303, erros is 0.000796\n",
      "current epoch is 304, erros is 0.000985\n",
      "current epoch is 305, erros is 0.000754\n",
      "current epoch is 306, erros is 0.000768\n",
      "current epoch is 307, erros is 0.000738\n",
      "current epoch is 308, erros is 0.000738\n",
      "current epoch is 309, erros is 0.000794\n",
      "current epoch is 310, erros is 0.000728\n",
      "current epoch is 310, test erros is 0.054059\n",
      "current epoch is 311, erros is 0.000758\n",
      "current epoch is 312, erros is 0.000724\n",
      "current epoch is 313, erros is 0.000730\n",
      "current epoch is 314, erros is 0.000784\n",
      "current epoch is 315, erros is 0.000718\n",
      "current epoch is 316, erros is 0.000833\n",
      "current epoch is 317, erros is 0.000727\n",
      "current epoch is 318, erros is 0.000738\n",
      "current epoch is 319, erros is 0.000749\n",
      "current epoch is 320, erros is 0.000810\n",
      "current epoch is 320, test erros is 0.043625\n",
      "current epoch is 321, erros is 0.000750\n",
      "current epoch is 322, erros is 0.000717\n",
      "current epoch is 323, erros is 0.000824\n",
      "current epoch is 324, erros is 0.000725\n",
      "current epoch is 325, erros is 0.000748\n",
      "current epoch is 326, erros is 0.000781\n",
      "current epoch is 327, erros is 0.000708\n",
      "current epoch is 328, erros is 0.000683\n",
      "current epoch is 329, erros is 0.000784\n",
      "current epoch is 330, erros is 0.000760\n",
      "current epoch is 330, test erros is 0.045898\n",
      "current epoch is 331, erros is 0.000676\n",
      "current epoch is 332, erros is 0.000703\n",
      "current epoch is 333, erros is 0.000835\n",
      "current epoch is 334, erros is 0.000722\n",
      "current epoch is 335, erros is 0.000748\n",
      "current epoch is 336, erros is 0.000724\n",
      "current epoch is 337, erros is 0.000704\n",
      "current epoch is 338, erros is 0.000692\n",
      "current epoch is 339, erros is 0.000696\n",
      "current epoch is 340, erros is 0.000795\n",
      "current epoch is 340, test erros is 0.060581\n",
      "current epoch is 341, erros is 0.000744\n",
      "current epoch is 342, erros is 0.000697\n",
      "current epoch is 343, erros is 0.000686\n",
      "current epoch is 344, erros is 0.000712\n",
      "current epoch is 345, erros is 0.000751\n",
      "current epoch is 346, erros is 0.000689\n",
      "current epoch is 347, erros is 0.000715\n",
      "current epoch is 348, erros is 0.000688\n",
      "current epoch is 349, erros is 0.000727\n",
      "current epoch is 350, erros is 0.000775\n",
      "current epoch is 350, test erros is 0.054697\n",
      "current epoch is 351, erros is 0.000711\n",
      "current epoch is 352, erros is 0.000724\n",
      "current epoch is 353, erros is 0.000667\n",
      "current epoch is 354, erros is 0.000715\n",
      "current epoch is 355, erros is 0.000683\n",
      "current epoch is 356, erros is 0.000691\n",
      "current epoch is 357, erros is 0.000723\n",
      "current epoch is 358, erros is 0.000701\n",
      "current epoch is 359, erros is 0.000685\n",
      "current epoch is 360, erros is 0.000772\n",
      "current epoch is 360, test erros is 0.046280\n",
      "current epoch is 361, erros is 0.000674\n",
      "current epoch is 362, erros is 0.000728\n",
      "current epoch is 363, erros is 0.000706\n",
      "current epoch is 364, erros is 0.000670\n",
      "current epoch is 365, erros is 0.000663\n",
      "current epoch is 366, erros is 0.000655\n",
      "current epoch is 367, erros is 0.000681\n",
      "current epoch is 368, erros is 0.000668\n",
      "current epoch is 369, erros is 0.000675\n",
      "current epoch is 370, erros is 0.000674\n",
      "current epoch is 370, test erros is 0.044453\n",
      "current epoch is 371, erros is 0.000637\n",
      "current epoch is 372, erros is 0.000662\n",
      "current epoch is 373, erros is 0.000756\n",
      "current epoch is 374, erros is 0.000679\n",
      "current epoch is 375, erros is 0.000696\n",
      "current epoch is 376, erros is 0.000661\n",
      "current epoch is 377, erros is 0.000657\n",
      "current epoch is 378, erros is 0.000730\n",
      "current epoch is 379, erros is 0.000673\n",
      "current epoch is 380, erros is 0.000663\n",
      "current epoch is 380, test erros is 0.057488\n",
      "current epoch is 381, erros is 0.000684\n",
      "current epoch is 382, erros is 0.000650\n",
      "current epoch is 383, erros is 0.000684\n",
      "current epoch is 384, erros is 0.000640\n",
      "current epoch is 385, erros is 0.000682\n",
      "current epoch is 386, erros is 0.000690\n",
      "current epoch is 387, erros is 0.000668\n",
      "current epoch is 388, erros is 0.000700\n",
      "current epoch is 389, erros is 0.000670\n",
      "current epoch is 390, erros is 0.000673\n",
      "current epoch is 390, test erros is 0.063225\n",
      "current epoch is 391, erros is 0.000693\n",
      "current epoch is 392, erros is 0.000664\n",
      "current epoch is 393, erros is 0.000678\n",
      "current epoch is 394, erros is 0.000674\n",
      "current epoch is 395, erros is 0.000737\n",
      "current epoch is 396, erros is 0.000638\n",
      "current epoch is 397, erros is 0.000658\n",
      "current epoch is 398, erros is 0.000639\n",
      "current epoch is 399, erros is 0.000622\n",
      "current epoch is 400, erros is 0.000646\n",
      "current epoch is 400, test erros is 0.050383\n",
      "current epoch is 401, erros is 0.000737\n",
      "current epoch is 402, erros is 0.000658\n",
      "current epoch is 403, erros is 0.000618\n",
      "current epoch is 404, erros is 0.000647\n",
      "current epoch is 405, erros is 0.000640\n",
      "current epoch is 406, erros is 0.000622\n",
      "current epoch is 407, erros is 0.000646\n",
      "current epoch is 408, erros is 0.000649\n",
      "current epoch is 409, erros is 0.000656\n",
      "current epoch is 410, erros is 0.000697\n",
      "current epoch is 410, test erros is 0.060186\n",
      "current epoch is 411, erros is 0.000731\n",
      "current epoch is 412, erros is 0.000633\n",
      "current epoch is 413, erros is 0.000614\n",
      "current epoch is 414, erros is 0.000636\n",
      "current epoch is 415, erros is 0.000637\n",
      "current epoch is 416, erros is 0.000739\n",
      "current epoch is 417, erros is 0.000660\n",
      "current epoch is 418, erros is 0.000632\n",
      "current epoch is 419, erros is 0.000614\n",
      "current epoch is 420, erros is 0.000622\n",
      "current epoch is 420, test erros is 0.045179\n",
      "current epoch is 421, erros is 0.000634\n",
      "current epoch is 422, erros is 0.000672\n",
      "current epoch is 423, erros is 0.000751\n",
      "current epoch is 424, erros is 0.000597\n",
      "current epoch is 425, erros is 0.000632\n",
      "current epoch is 426, erros is 0.000666\n",
      "current epoch is 427, erros is 0.000636\n",
      "current epoch is 428, erros is 0.000616\n",
      "current epoch is 429, erros is 0.000652\n",
      "current epoch is 430, erros is 0.000631\n",
      "current epoch is 430, test erros is 0.034200\n",
      "current epoch is 431, erros is 0.000626\n",
      "current epoch is 432, erros is 0.000677\n",
      "current epoch is 433, erros is 0.000673\n",
      "current epoch is 434, erros is 0.000679\n",
      "current epoch is 435, erros is 0.000608\n",
      "current epoch is 436, erros is 0.000617\n",
      "current epoch is 437, erros is 0.000599\n",
      "current epoch is 438, erros is 0.000622\n",
      "current epoch is 439, erros is 0.000707\n",
      "current epoch is 440, erros is 0.000701\n",
      "current epoch is 440, test erros is 0.047442\n",
      "current epoch is 441, erros is 0.000740\n",
      "current epoch is 442, erros is 0.000624\n",
      "current epoch is 443, erros is 0.000581\n",
      "current epoch is 444, erros is 0.000612\n",
      "current epoch is 445, erros is 0.000621\n",
      "current epoch is 446, erros is 0.000622\n",
      "current epoch is 447, erros is 0.000606\n",
      "current epoch is 448, erros is 0.000625\n",
      "current epoch is 449, erros is 0.000669\n",
      "current epoch is 450, erros is 0.000655\n",
      "current epoch is 450, test erros is 0.035404\n",
      "current epoch is 451, erros is 0.000654\n",
      "current epoch is 452, erros is 0.000626\n",
      "current epoch is 453, erros is 0.000604\n",
      "current epoch is 454, erros is 0.000647\n",
      "current epoch is 455, erros is 0.000607\n",
      "current epoch is 456, erros is 0.000617\n",
      "current epoch is 457, erros is 0.000604\n",
      "current epoch is 458, erros is 0.000604\n",
      "current epoch is 459, erros is 0.000626\n",
      "current epoch is 460, erros is 0.000789\n",
      "current epoch is 460, test erros is 0.047654\n",
      "current epoch is 461, erros is 0.000605\n",
      "current epoch is 462, erros is 0.000617\n",
      "current epoch is 463, erros is 0.000584\n",
      "current epoch is 464, erros is 0.000633\n",
      "current epoch is 465, erros is 0.000601\n",
      "current epoch is 466, erros is 0.000603\n",
      "current epoch is 467, erros is 0.000619\n",
      "current epoch is 468, erros is 0.000666\n",
      "current epoch is 469, erros is 0.000608\n",
      "current epoch is 470, erros is 0.000594\n",
      "current epoch is 470, test erros is 0.025351\n",
      "current epoch is 471, erros is 0.000643\n",
      "current epoch is 472, erros is 0.000612\n",
      "current epoch is 473, erros is 0.000606\n",
      "current epoch is 474, erros is 0.000609\n",
      "current epoch is 475, erros is 0.000576\n",
      "current epoch is 476, erros is 0.000623\n",
      "current epoch is 477, erros is 0.000610\n",
      "current epoch is 478, erros is 0.000589\n",
      "current epoch is 479, erros is 0.000606\n",
      "current epoch is 480, erros is 0.000605\n",
      "current epoch is 480, test erros is 0.026593\n",
      "current epoch is 481, erros is 0.000610\n",
      "current epoch is 482, erros is 0.000584\n",
      "current epoch is 483, erros is 0.000600\n",
      "current epoch is 484, erros is 0.000649\n",
      "current epoch is 485, erros is 0.000598\n",
      "current epoch is 486, erros is 0.000595\n",
      "current epoch is 487, erros is 0.000667\n",
      "current epoch is 488, erros is 0.000666\n",
      "current epoch is 489, erros is 0.000595\n",
      "current epoch is 490, erros is 0.000607\n",
      "current epoch is 490, test erros is 0.036102\n",
      "current epoch is 491, erros is 0.000562\n",
      "current epoch is 492, erros is 0.000586\n",
      "current epoch is 493, erros is 0.000628\n",
      "current epoch is 494, erros is 0.000649\n",
      "current epoch is 495, erros is 0.000597\n",
      "current epoch is 496, erros is 0.000601\n",
      "current epoch is 497, erros is 0.000565\n",
      "current epoch is 498, erros is 0.000579\n",
      "current epoch is 499, erros is 0.000603\n",
      "current epoch is 500, erros is 0.000586\n",
      "current epoch is 500, test erros is 0.031197\n",
      "current epoch is 501, erros is 0.000597\n",
      "current epoch is 502, erros is 0.000580\n",
      "current epoch is 503, erros is 0.000662\n",
      "current epoch is 504, erros is 0.000565\n",
      "current epoch is 505, erros is 0.000585\n",
      "current epoch is 506, erros is 0.000587\n",
      "current epoch is 507, erros is 0.000585\n",
      "current epoch is 508, erros is 0.000606\n",
      "current epoch is 509, erros is 0.000578\n",
      "current epoch is 510, erros is 0.000560\n",
      "current epoch is 510, test erros is 0.038989\n",
      "current epoch is 511, erros is 0.000608\n",
      "current epoch is 512, erros is 0.000576\n",
      "current epoch is 513, erros is 0.000576\n",
      "current epoch is 514, erros is 0.000612\n",
      "current epoch is 515, erros is 0.000642\n",
      "current epoch is 516, erros is 0.000610\n",
      "current epoch is 517, erros is 0.000575\n",
      "current epoch is 518, erros is 0.000562\n",
      "current epoch is 519, erros is 0.000595\n",
      "current epoch is 520, erros is 0.000582\n",
      "current epoch is 520, test erros is 0.058247\n",
      "current epoch is 521, erros is 0.000627\n",
      "current epoch is 522, erros is 0.000555\n",
      "current epoch is 523, erros is 0.000594\n",
      "current epoch is 524, erros is 0.000595\n",
      "current epoch is 525, erros is 0.000587\n",
      "current epoch is 526, erros is 0.000596\n",
      "current epoch is 527, erros is 0.000606\n",
      "current epoch is 528, erros is 0.000614\n",
      "current epoch is 529, erros is 0.000600\n",
      "current epoch is 530, erros is 0.000547\n",
      "current epoch is 530, test erros is 0.044019\n",
      "current epoch is 531, erros is 0.000564\n",
      "current epoch is 532, erros is 0.000562\n",
      "current epoch is 533, erros is 0.000585\n",
      "current epoch is 534, erros is 0.000556\n",
      "current epoch is 535, erros is 0.000648\n",
      "current epoch is 536, erros is 0.000611\n",
      "current epoch is 537, erros is 0.000570\n",
      "current epoch is 538, erros is 0.000548\n",
      "current epoch is 539, erros is 0.000578\n",
      "current epoch is 540, erros is 0.000561\n",
      "current epoch is 540, test erros is 0.031327\n"
     ]
    },
    {
     "ename": "KeyboardInterrupt",
     "evalue": "",
     "output_type": "error",
     "traceback": [
      "\u001b[0;31m---------------------------------------------------------------------------\u001b[0m",
      "\u001b[0;31mKeyboardInterrupt\u001b[0m                         Traceback (most recent call last)",
      "\u001b[0;32m<ipython-input-310-001853ea05b1>\u001b[0m in \u001b[0;36m<module>\u001b[0;34m\u001b[0m\n\u001b[1;32m     14\u001b[0m         \u001b[0mloss\u001b[0m \u001b[0;34m=\u001b[0m \u001b[0mcriterion\u001b[0m\u001b[0;34m(\u001b[0m\u001b[0mpred\u001b[0m\u001b[0;34m,\u001b[0m \u001b[0my\u001b[0m\u001b[0;34m)\u001b[0m\u001b[0;34m\u001b[0m\u001b[0;34m\u001b[0m\u001b[0m\n\u001b[1;32m     15\u001b[0m         \u001b[0mloss\u001b[0m\u001b[0;34m.\u001b[0m\u001b[0mbackward\u001b[0m\u001b[0;34m(\u001b[0m\u001b[0;34m)\u001b[0m\u001b[0;34m\u001b[0m\u001b[0;34m\u001b[0m\u001b[0m\n\u001b[0;32m---> 16\u001b[0;31m         \u001b[0mtorch\u001b[0m\u001b[0;34m.\u001b[0m\u001b[0mnn\u001b[0m\u001b[0;34m.\u001b[0m\u001b[0mutils\u001b[0m\u001b[0;34m.\u001b[0m\u001b[0mclip_grad_norm_\u001b[0m\u001b[0;34m(\u001b[0m\u001b[0mmodel\u001b[0m\u001b[0;34m.\u001b[0m\u001b[0mparameters\u001b[0m\u001b[0;34m(\u001b[0m\u001b[0;34m)\u001b[0m\u001b[0;34m,\u001b[0m\u001b[0;36m0.5\u001b[0m\u001b[0;34m)\u001b[0m\u001b[0;34m\u001b[0m\u001b[0;34m\u001b[0m\u001b[0m\n\u001b[0m\u001b[1;32m     17\u001b[0m         \u001b[0moptimizer\u001b[0m\u001b[0;34m.\u001b[0m\u001b[0mstep\u001b[0m\u001b[0;34m(\u001b[0m\u001b[0;34m)\u001b[0m\u001b[0;34m\u001b[0m\u001b[0;34m\u001b[0m\u001b[0m\n\u001b[1;32m     18\u001b[0m         \u001b[0mtotal_loss\u001b[0m \u001b[0;34m+=\u001b[0m \u001b[0mloss\u001b[0m\u001b[0;34m\u001b[0m\u001b[0;34m\u001b[0m\u001b[0m\n",
      "\u001b[0;32m~/anaconda3/lib/python3.8/site-packages/torch/nn/utils/clip_grad.py\u001b[0m in \u001b[0;36mclip_grad_norm_\u001b[0;34m(parameters, max_norm, norm_type)\u001b[0m\n\u001b[1;32m     34\u001b[0m         \u001b[0mtotal_norm\u001b[0m \u001b[0;34m=\u001b[0m \u001b[0mmax\u001b[0m\u001b[0;34m(\u001b[0m\u001b[0mp\u001b[0m\u001b[0;34m.\u001b[0m\u001b[0mgrad\u001b[0m\u001b[0;34m.\u001b[0m\u001b[0mdetach\u001b[0m\u001b[0;34m(\u001b[0m\u001b[0;34m)\u001b[0m\u001b[0;34m.\u001b[0m\u001b[0mabs\u001b[0m\u001b[0;34m(\u001b[0m\u001b[0;34m)\u001b[0m\u001b[0;34m.\u001b[0m\u001b[0mmax\u001b[0m\u001b[0;34m(\u001b[0m\u001b[0;34m)\u001b[0m\u001b[0;34m.\u001b[0m\u001b[0mto\u001b[0m\u001b[0;34m(\u001b[0m\u001b[0mdevice\u001b[0m\u001b[0;34m)\u001b[0m \u001b[0;32mfor\u001b[0m \u001b[0mp\u001b[0m \u001b[0;32min\u001b[0m \u001b[0mparameters\u001b[0m\u001b[0;34m)\u001b[0m\u001b[0;34m\u001b[0m\u001b[0;34m\u001b[0m\u001b[0m\n\u001b[1;32m     35\u001b[0m     \u001b[0;32melse\u001b[0m\u001b[0;34m:\u001b[0m\u001b[0;34m\u001b[0m\u001b[0;34m\u001b[0m\u001b[0m\n\u001b[0;32m---> 36\u001b[0;31m         \u001b[0mtotal_norm\u001b[0m \u001b[0;34m=\u001b[0m \u001b[0mtorch\u001b[0m\u001b[0;34m.\u001b[0m\u001b[0mnorm\u001b[0m\u001b[0;34m(\u001b[0m\u001b[0mtorch\u001b[0m\u001b[0;34m.\u001b[0m\u001b[0mstack\u001b[0m\u001b[0;34m(\u001b[0m\u001b[0;34m[\u001b[0m\u001b[0mtorch\u001b[0m\u001b[0;34m.\u001b[0m\u001b[0mnorm\u001b[0m\u001b[0;34m(\u001b[0m\u001b[0mp\u001b[0m\u001b[0;34m.\u001b[0m\u001b[0mgrad\u001b[0m\u001b[0;34m.\u001b[0m\u001b[0mdetach\u001b[0m\u001b[0;34m(\u001b[0m\u001b[0;34m)\u001b[0m\u001b[0;34m,\u001b[0m \u001b[0mnorm_type\u001b[0m\u001b[0;34m)\u001b[0m\u001b[0;34m.\u001b[0m\u001b[0mto\u001b[0m\u001b[0;34m(\u001b[0m\u001b[0mdevice\u001b[0m\u001b[0;34m)\u001b[0m \u001b[0;32mfor\u001b[0m \u001b[0mp\u001b[0m \u001b[0;32min\u001b[0m \u001b[0mparameters\u001b[0m\u001b[0;34m]\u001b[0m\u001b[0;34m)\u001b[0m\u001b[0;34m,\u001b[0m \u001b[0mnorm_type\u001b[0m\u001b[0;34m)\u001b[0m\u001b[0;34m\u001b[0m\u001b[0;34m\u001b[0m\u001b[0m\n\u001b[0m\u001b[1;32m     37\u001b[0m     \u001b[0mclip_coef\u001b[0m \u001b[0;34m=\u001b[0m \u001b[0mmax_norm\u001b[0m \u001b[0;34m/\u001b[0m \u001b[0;34m(\u001b[0m\u001b[0mtotal_norm\u001b[0m \u001b[0;34m+\u001b[0m \u001b[0;36m1e-6\u001b[0m\u001b[0;34m)\u001b[0m\u001b[0;34m\u001b[0m\u001b[0;34m\u001b[0m\u001b[0m\n\u001b[1;32m     38\u001b[0m     \u001b[0;32mif\u001b[0m \u001b[0mclip_coef\u001b[0m \u001b[0;34m<\u001b[0m \u001b[0;36m1\u001b[0m\u001b[0;34m:\u001b[0m\u001b[0;34m\u001b[0m\u001b[0;34m\u001b[0m\u001b[0m\n",
      "\u001b[0;32m~/anaconda3/lib/python3.8/site-packages/torch/nn/utils/clip_grad.py\u001b[0m in \u001b[0;36m<listcomp>\u001b[0;34m(.0)\u001b[0m\n\u001b[1;32m     34\u001b[0m         \u001b[0mtotal_norm\u001b[0m \u001b[0;34m=\u001b[0m \u001b[0mmax\u001b[0m\u001b[0;34m(\u001b[0m\u001b[0mp\u001b[0m\u001b[0;34m.\u001b[0m\u001b[0mgrad\u001b[0m\u001b[0;34m.\u001b[0m\u001b[0mdetach\u001b[0m\u001b[0;34m(\u001b[0m\u001b[0;34m)\u001b[0m\u001b[0;34m.\u001b[0m\u001b[0mabs\u001b[0m\u001b[0;34m(\u001b[0m\u001b[0;34m)\u001b[0m\u001b[0;34m.\u001b[0m\u001b[0mmax\u001b[0m\u001b[0;34m(\u001b[0m\u001b[0;34m)\u001b[0m\u001b[0;34m.\u001b[0m\u001b[0mto\u001b[0m\u001b[0;34m(\u001b[0m\u001b[0mdevice\u001b[0m\u001b[0;34m)\u001b[0m \u001b[0;32mfor\u001b[0m \u001b[0mp\u001b[0m \u001b[0;32min\u001b[0m \u001b[0mparameters\u001b[0m\u001b[0;34m)\u001b[0m\u001b[0;34m\u001b[0m\u001b[0;34m\u001b[0m\u001b[0m\n\u001b[1;32m     35\u001b[0m     \u001b[0;32melse\u001b[0m\u001b[0;34m:\u001b[0m\u001b[0;34m\u001b[0m\u001b[0;34m\u001b[0m\u001b[0m\n\u001b[0;32m---> 36\u001b[0;31m         \u001b[0mtotal_norm\u001b[0m \u001b[0;34m=\u001b[0m \u001b[0mtorch\u001b[0m\u001b[0;34m.\u001b[0m\u001b[0mnorm\u001b[0m\u001b[0;34m(\u001b[0m\u001b[0mtorch\u001b[0m\u001b[0;34m.\u001b[0m\u001b[0mstack\u001b[0m\u001b[0;34m(\u001b[0m\u001b[0;34m[\u001b[0m\u001b[0mtorch\u001b[0m\u001b[0;34m.\u001b[0m\u001b[0mnorm\u001b[0m\u001b[0;34m(\u001b[0m\u001b[0mp\u001b[0m\u001b[0;34m.\u001b[0m\u001b[0mgrad\u001b[0m\u001b[0;34m.\u001b[0m\u001b[0mdetach\u001b[0m\u001b[0;34m(\u001b[0m\u001b[0;34m)\u001b[0m\u001b[0;34m,\u001b[0m \u001b[0mnorm_type\u001b[0m\u001b[0;34m)\u001b[0m\u001b[0;34m.\u001b[0m\u001b[0mto\u001b[0m\u001b[0;34m(\u001b[0m\u001b[0mdevice\u001b[0m\u001b[0;34m)\u001b[0m \u001b[0;32mfor\u001b[0m \u001b[0mp\u001b[0m \u001b[0;32min\u001b[0m \u001b[0mparameters\u001b[0m\u001b[0;34m]\u001b[0m\u001b[0;34m)\u001b[0m\u001b[0;34m,\u001b[0m \u001b[0mnorm_type\u001b[0m\u001b[0;34m)\u001b[0m\u001b[0;34m\u001b[0m\u001b[0;34m\u001b[0m\u001b[0m\n\u001b[0m\u001b[1;32m     37\u001b[0m     \u001b[0mclip_coef\u001b[0m \u001b[0;34m=\u001b[0m \u001b[0mmax_norm\u001b[0m \u001b[0;34m/\u001b[0m \u001b[0;34m(\u001b[0m\u001b[0mtotal_norm\u001b[0m \u001b[0;34m+\u001b[0m \u001b[0;36m1e-6\u001b[0m\u001b[0;34m)\u001b[0m\u001b[0;34m\u001b[0m\u001b[0;34m\u001b[0m\u001b[0m\n\u001b[1;32m     38\u001b[0m     \u001b[0;32mif\u001b[0m \u001b[0mclip_coef\u001b[0m \u001b[0;34m<\u001b[0m \u001b[0;36m1\u001b[0m\u001b[0;34m:\u001b[0m\u001b[0;34m\u001b[0m\u001b[0;34m\u001b[0m\u001b[0m\n",
      "\u001b[0;32m~/anaconda3/lib/python3.8/site-packages/torch/functional.py\u001b[0m in \u001b[0;36mnorm\u001b[0;34m(input, p, dim, keepdim, out, dtype)\u001b[0m\n\u001b[1;32m   1291\u001b[0m         \u001b[0;32mif\u001b[0m \u001b[0;32mnot\u001b[0m \u001b[0misinstance\u001b[0m\u001b[0;34m(\u001b[0m\u001b[0mp\u001b[0m\u001b[0;34m,\u001b[0m \u001b[0mstr\u001b[0m\u001b[0;34m)\u001b[0m\u001b[0;34m:\u001b[0m\u001b[0;34m\u001b[0m\u001b[0;34m\u001b[0m\u001b[0m\n\u001b[1;32m   1292\u001b[0m             \u001b[0m_dim\u001b[0m \u001b[0;34m=\u001b[0m \u001b[0;34m[\u001b[0m\u001b[0mi\u001b[0m \u001b[0;32mfor\u001b[0m \u001b[0mi\u001b[0m \u001b[0;32min\u001b[0m \u001b[0mrange\u001b[0m\u001b[0;34m(\u001b[0m\u001b[0mndim\u001b[0m\u001b[0;34m)\u001b[0m\u001b[0;34m]\u001b[0m  \u001b[0;31m# noqa: C416 TODO: rewrite as list(range(m))\u001b[0m\u001b[0;34m\u001b[0m\u001b[0;34m\u001b[0m\u001b[0m\n\u001b[0;32m-> 1293\u001b[0;31m             \u001b[0;32mreturn\u001b[0m \u001b[0m_VF\u001b[0m\u001b[0;34m.\u001b[0m\u001b[0mnorm\u001b[0m\u001b[0;34m(\u001b[0m\u001b[0minput\u001b[0m\u001b[0;34m,\u001b[0m \u001b[0mp\u001b[0m\u001b[0;34m,\u001b[0m \u001b[0mdim\u001b[0m\u001b[0;34m=\u001b[0m\u001b[0m_dim\u001b[0m\u001b[0;34m,\u001b[0m \u001b[0mkeepdim\u001b[0m\u001b[0;34m=\u001b[0m\u001b[0mkeepdim\u001b[0m\u001b[0;34m)\u001b[0m  \u001b[0;31m# type: ignore\u001b[0m\u001b[0;34m\u001b[0m\u001b[0;34m\u001b[0m\u001b[0m\n\u001b[0m\u001b[1;32m   1294\u001b[0m \u001b[0;34m\u001b[0m\u001b[0m\n\u001b[1;32m   1295\u001b[0m     \u001b[0;31m# TODO: when https://github.com/pytorch/pytorch/issues/33782 is fixed\u001b[0m\u001b[0;34m\u001b[0m\u001b[0;34m\u001b[0m\u001b[0;34m\u001b[0m\u001b[0m\n",
      "\u001b[0;31mKeyboardInterrupt\u001b[0m: "
     ]
    }
   ],
   "source": [
    "#train, for each 10 epochs, run the test dataset\n",
    "epochs = 1000\n",
    "for epoch in range(epochs):\n",
    "    model.train()\n",
    "    total_loss = 0\n",
    "    for x, y in train_dataloader:\n",
    "        optimizer.zero_grad()\n",
    "        x = x.transpose(0,1)\n",
    "        x=x.to(device)\n",
    "        y=y.to(device)\n",
    "        pred= model(x)\n",
    "        pred = pred.squeeze(0)\n",
    "        \n",
    "        loss = criterion(pred, y)\n",
    "        loss.backward()\n",
    "        torch.nn.utils.clip_grad_norm_(model.parameters(),0.5)\n",
    "        optimizer.step()\n",
    "        total_loss += loss\n",
    "        \n",
    "    print('current epoch is {:3d}, erros is {:5f}'.format(epoch, total_loss))\n",
    "    \n",
    "    if epoch%10 == 0:\n",
    "        model.train()\n",
    "        with torch.no_grad():\n",
    "            test_loss = 0\n",
    "            for x, y in test_dataloader:\n",
    "                x = x.transpose(0,1)\n",
    "                x=x.to(device)\n",
    "                y=y.to(device)\n",
    "                pred= model(x)\n",
    "                pred = pred.squeeze(0)\n",
    "\n",
    "                loss = criterion(pred, y)\n",
    "                \n",
    "                test_loss +=loss\n",
    "        \n",
    "        print('current epoch is {:3d}, test erros is {:5f}'.format(epoch, test_loss))\n",
    "\n",
    "\n",
    "    "
   ]
  },
  {
   "cell_type": "code",
   "execution_count": 311,
   "id": "lesser-customs",
   "metadata": {},
   "outputs": [],
   "source": [
    "#try to predict\n",
    "\n",
    "def pred2seq(pred, oldseq):\n",
    "    '''\n",
    "    accept the old seq and new prediction based on old seq, return a new seq for next prediciton\n",
    "    '''\n",
    "    seq = torch.cat((oldseq,pred), 0)\n",
    "    \n",
    "    return seq[1:]\n",
    "\n",
    "model.eval()\n",
    "sequence = torch.Tensor(transformed_atom_1_vx[:10]).unsqueeze(0).transpose(0,1).to(device)\n",
    "pred_list = []\n",
    "with torch.no_grad():\n",
    "    for i in range(100000-train_size):\n",
    "        pred = model(sequence)\n",
    "        pred_list.append(pred.cpu().squeeze(0).numpy())\n",
    "\n",
    "        sequence = pred2seq(pred, sequence)\n",
    "\n",
    "    "
   ]
  },
  {
   "cell_type": "code",
   "execution_count": 315,
   "id": "comfortable-latter",
   "metadata": {},
   "outputs": [],
   "source": [
    "output = [scaler.inverse_transform(pred).squeeze(0) for pred in pred_list]"
   ]
  },
  {
   "cell_type": "code",
   "execution_count": 318,
   "id": "parliamentary-jordan",
   "metadata": {},
   "outputs": [
    {
     "data": {
      "text/plain": [
       "[<matplotlib.lines.Line2D at 0x7f2d963ff580>]"
      ]
     },
     "execution_count": 318,
     "metadata": {},
     "output_type": "execute_result"
    },
    {
     "data": {
      "image/png": "[encoded data removed]",
      "text/plain": [
       "<Figure size 432x288 with 1 Axes>"
      ]
     },
     "metadata": {
      "needs_background": "light"
     },
     "output_type": "display_data"
    }
   ],
   "source": [
    "# plot the whole ground truth data\n",
    "plt.plot(transformed_atom_1_vx)"
   ]
  },
  {
   "cell_type": "code",
   "execution_count": 326,
   "id": "packed-malpractice",
   "metadata": {},
   "outputs": [
    {
     "data": {
      "text/plain": [
       "[<matplotlib.lines.Line2D at 0x7f2d904d15e0>]"
      ]
     },
     "execution_count": 326,
     "metadata": {},
     "output_type": "execute_result"
    },
    {
     "data": {
      "image/png": "[encoded data removed]",
      "text/plain": [
       "<Figure size 432x288 with 1 Axes>"
      ]
     },
     "metadata": {
      "needs_background": "light"
     },
     "output_type": "display_data"
    }
   ],
   "source": [
    "#plot the ground truth data for first 100 step predictions\n",
    "plt.plot(atom_1_vx[100:200])"
   ]
  },
  {
   "cell_type": "code",
   "execution_count": 324,
   "id": "happy-chuck",
   "metadata": {},
   "outputs": [
    {
     "data": {
      "text/plain": [
       "[<matplotlib.lines.Line2D at 0x7f2d905a9730>]"
      ]
     },
     "execution_count": 324,
     "metadata": {},
     "output_type": "execute_result"
    },
    {
     "data": {
      "image/png": "[encoded data removed]",
      "text/plain": [
       "<Figure size 432x288 with 1 Axes>"
      ]
     },
     "metadata": {
      "needs_background": "light"
     },
     "output_type": "display_data"
    }
   ],
   "source": [
    "# plot the prediction data for first 100 steps\n",
    "plt.plot(output[:100])"
   ]
  },
  {
   "cell_type": "code",
   "execution_count": 341,
   "id": "final-function",
   "metadata": {},
   "outputs": [
    {
     "data": {
      "text/plain": [
       "[<matplotlib.lines.Line2D at 0x7f2e4dac0df0>]"
      ]
     },
     "execution_count": 341,
     "metadata": {},
     "output_type": "execute_result"
    },
    {
     "data": {
      "image/png": "[encoded data removed]",
      "text/plain": [
       "<Figure size 432x288 with 1 Axes>"
      ]
     },
     "metadata": {
      "needs_background": "light"
     },
     "output_type": "display_data"
    }
   ],
   "source": [
    "#same test procedure as train_LSTM.py\n",
    "inputseq = torch.Tensor(train_data_list).transpose(0,1)\n",
    "pred = model(inputseq.to(device))\n",
    "pred = pred.detach().cpu().numpy().squeeze(0)\n",
    "plt.plot(pred)"
   ]
  },
  {
   "cell_type": "code",
   "execution_count": 339,
   "id": "hybrid-consensus",
   "metadata": {},
   "outputs": [
    {
     "data": {
      "text/plain": [
       "[<matplotlib.lines.Line2D at 0x7f2e6c72df70>]"
      ]
     },
     "execution_count": 339,
     "metadata": {},
     "output_type": "execute_result"
    },
    {
     "data": {
      "image/png": "[encoded data removed]",
      "text/plain": [
       "<Figure size 432x288 with 1 Axes>"
      ]
     },
     "metadata": {
      "needs_background": "light"
     },
     "output_type": "display_data"
    }
   ],
   "source": [
    "#ground truth data\n",
    "plt.plot(atom_1_vx[0:80000])"
   ]
  },
  {
   "cell_type": "code",
   "execution_count": null,
   "id": "catholic-sight",
   "metadata": {},
   "outputs": [],
   "source": []
  }
 ],
 "metadata": {
  "kernelspec": {
   "display_name": "Python 3",
   "language": "python",
   "name": "python3"
  },
  "language_info": {
   "codemirror_mode": {
    "name": "ipython",
    "version": 3
   },
   "file_extension": ".py",
   "mimetype": "text/x-python",
   "name": "python",
   "nbconvert_exporter": "python",
   "pygments_lexer": "ipython3",
   "version": "3.8.5"
  }
 },
 "nbformat": 4,
 "nbformat_minor": 5
}
